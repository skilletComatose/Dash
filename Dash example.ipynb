{
 "cells": [
  {
   "cell_type": "markdown",
   "metadata": {},
   "source": [
    "# Bitcoin trading strategy dashboard"
   ]
  },
  {
   "cell_type": "markdown",
   "metadata": {},
   "source": [
    "## Checking the data source\n",
    "\n",
    "We will be reading data from the file `aggr.csv` which was made available by the creators of the strategy. Let's load it into a `pandas` dataframe and look at the columns available to us for use:"
   ]
  },
  {
   "cell_type": "code",
   "execution_count": 2,
   "metadata": {},
   "outputs": [
    {
     "data": {
      "text/html": [
       "<div>\n",
       "<style scoped>\n",
       "    .dataframe tbody tr th:only-of-type {\n",
       "        vertical-align: middle;\n",
       "    }\n",
       "\n",
       "    .dataframe tbody tr th {\n",
       "        vertical-align: top;\n",
       "    }\n",
       "\n",
       "    .dataframe thead th {\n",
       "        text-align: right;\n",
       "    }\n",
       "</style>\n",
       "<table border=\"1\" class=\"dataframe\">\n",
       "  <thead>\n",
       "    <tr style=\"text-align: right;\">\n",
       "      <th></th>\n",
       "      <th>Number</th>\n",
       "      <th>Trade type</th>\n",
       "      <th>Entry time</th>\n",
       "      <th>Exposure</th>\n",
       "      <th>Entry balance</th>\n",
       "      <th>Exit balance</th>\n",
       "      <th>Profit</th>\n",
       "      <th>Pnl (incl fees)</th>\n",
       "      <th>Exchange</th>\n",
       "      <th>Margin</th>\n",
       "      <th>BTC Price</th>\n",
       "    </tr>\n",
       "  </thead>\n",
       "  <tbody>\n",
       "    <tr>\n",
       "      <th>0</th>\n",
       "      <td>505</td>\n",
       "      <td>Short</td>\n",
       "      <td>2019-09-16 12:30:00</td>\n",
       "      <td>2 days 11 hours 30 minutes</td>\n",
       "      <td>1499.70810</td>\n",
       "      <td>1497.45854</td>\n",
       "      <td>-2.249562</td>\n",
       "      <td>-0.15</td>\n",
       "      <td>Bitmex</td>\n",
       "      <td>1</td>\n",
       "      <td>10262.5</td>\n",
       "    </tr>\n",
       "    <tr>\n",
       "      <th>1</th>\n",
       "      <td>504</td>\n",
       "      <td>Long</td>\n",
       "      <td>2019-09-15 22:00:00</td>\n",
       "      <td>14 hours 30 minutes</td>\n",
       "      <td>1523.08014</td>\n",
       "      <td>1499.23112</td>\n",
       "      <td>-23.849025</td>\n",
       "      <td>-1.57</td>\n",
       "      <td>Bitmex</td>\n",
       "      <td>1</td>\n",
       "      <td>10304.4</td>\n",
       "    </tr>\n",
       "    <tr>\n",
       "      <th>2</th>\n",
       "      <td>503</td>\n",
       "      <td>Short</td>\n",
       "      <td>2019-09-09 08:00:00</td>\n",
       "      <td>6 days 14 hours</td>\n",
       "      <td>1548.75311</td>\n",
       "      <td>1522.55620</td>\n",
       "      <td>-26.196910</td>\n",
       "      <td>-1.69</td>\n",
       "      <td>Bitmex</td>\n",
       "      <td>1</td>\n",
       "      <td>10310.0</td>\n",
       "    </tr>\n",
       "    <tr>\n",
       "      <th>3</th>\n",
       "      <td>502</td>\n",
       "      <td>Long</td>\n",
       "      <td>2019-09-07 15:00:00</td>\n",
       "      <td>1 day 17 hours</td>\n",
       "      <td>1594.40783</td>\n",
       "      <td>1547.82139</td>\n",
       "      <td>-46.586446</td>\n",
       "      <td>-2.92</td>\n",
       "      <td>Bitmex</td>\n",
       "      <td>1</td>\n",
       "      <td>10484.3</td>\n",
       "    </tr>\n",
       "    <tr>\n",
       "      <th>4</th>\n",
       "      <td>501</td>\n",
       "      <td>Short</td>\n",
       "      <td>2019-09-06 20:00:00</td>\n",
       "      <td>19 hours</td>\n",
       "      <td>1604.98017</td>\n",
       "      <td>1594.19207</td>\n",
       "      <td>-10.788103</td>\n",
       "      <td>-0.67</td>\n",
       "      <td>Bitmex</td>\n",
       "      <td>1</td>\n",
       "      <td>10306.9</td>\n",
       "    </tr>\n",
       "  </tbody>\n",
       "</table>\n",
       "</div>"
      ],
      "text/plain": [
       "   Number Trade type          Entry time                    Exposure  \\\n",
       "0     505      Short 2019-09-16 12:30:00  2 days 11 hours 30 minutes   \n",
       "1     504       Long 2019-09-15 22:00:00         14 hours 30 minutes   \n",
       "2     503      Short 2019-09-09 08:00:00             6 days 14 hours   \n",
       "3     502       Long 2019-09-07 15:00:00              1 day 17 hours   \n",
       "4     501      Short 2019-09-06 20:00:00                    19 hours   \n",
       "\n",
       "   Entry balance  Exit balance     Profit  Pnl (incl fees) Exchange  Margin  \\\n",
       "0     1499.70810    1497.45854  -2.249562            -0.15   Bitmex       1   \n",
       "1     1523.08014    1499.23112 -23.849025            -1.57   Bitmex       1   \n",
       "2     1548.75311    1522.55620 -26.196910            -1.69   Bitmex       1   \n",
       "3     1594.40783    1547.82139 -46.586446            -2.92   Bitmex       1   \n",
       "4     1604.98017    1594.19207 -10.788103            -0.67   Bitmex       1   \n",
       "\n",
       "   BTC Price  \n",
       "0    10262.5  \n",
       "1    10304.4  \n",
       "2    10310.0  \n",
       "3    10484.3  \n",
       "4    10306.9  "
      ]
     },
     "execution_count": 2,
     "metadata": {},
     "output_type": "execute_result"
    }
   ],
   "source": [
    "import pandas as pd\n",
    "\n",
    "df = pd.read_csv('aggr.csv', parse_dates=['Entry time'])\n",
    "df.head()"
   ]
  },
  {
   "cell_type": "markdown",
   "metadata": {},
   "source": [
    "The available data columns are as follows:\n",
    "\n",
    "1. **Number**: The serial number of the trade\n",
    "2. **Trade type**: Whether the trade was a \"Long\" or a \"Short\"\n",
    "3. **Entry time**: The entry time of the trade\n",
    "4. **Exposure**: The length of the trade before exiting\n",
    "5. **Entry balance**: BTC balance at entry\n",
    "6. **Exit balance**: BTC balance at exit\n",
    "7. **Profit**: Profit (in BTC) for the trade (can be positive or negative)\n",
    "8. **Pnl (incl fees)**: Profit or loss of trade in %\n",
    "9. **Exchange**: Exchange the trade was executed on\n",
    "10. **Margin**: Margin or leverage used in the trade (hereforth, margin/leverage will be used interchangably)\n",
    "11. **BTC Price**: Closing price of BTC on entry date"
   ]
  },
  {
   "cell_type": "markdown",
   "metadata": {},
   "source": [
    "### Ideal end state of the dashboard\n",
    "\n",
    "\n",
    "![screen1](img2.png \"Dashboard Screenshot\")\n",
    "![screen2](img1.png \"Dashboard Screenshot\")"
   ]
  },
  {
   "cell_type": "markdown",
   "metadata": {},
   "source": [
    "## Setting up the Dash app\n",
    "\n",
    "Let's get started building the above design. Copy the following into an `app.py` file:"
   ]
  },
  {
   "cell_type": "markdown",
   "metadata": {},
   "source": [
    "```\n",
    "import pandas as pd\n",
    "import dash\n",
    "import dash_core_components as dcc\n",
    "import dash_html_components as html\n",
    "import plotly.graph_objects as go\n",
    "\n",
    "df = pd.read_csv('aggr.csv', parse_dates=['Entry time'])\n",
    "\n",
    "app = dash.Dash(__name__, external_stylesheets=['https://codepen.io/uditagarwal/pen/oNvwKNP.css', 'https://codepen.io/uditagarwal/pen/YzKbqyV.css'])\n",
    "\n",
    "if __name__ == \"__main__\":\n",
    "    app.run_server(debug=True)\n",
    "```"
   ]
  },
  {
   "cell_type": "markdown",
   "metadata": {},
   "source": [
    "We will start by adding the selectors to the dashboard. The first part of the layout will be the title of our analysis. The class names of the divs are based on the styling information specified in the CSS file which is imported during setup of the app. Add the following to your `app.py` file:"
   ]
  },
  {
   "cell_type": "markdown",
   "metadata": {},
   "source": [
    "```\n",
    "app.layout = html.Div(children=[\n",
    "    html.Div(\n",
    "            children=[\n",
    "                html.H2(children=\"Bitcoin Leveraged Trading Backtest Analysis\", className='h2-title'),\n",
    "            ],\n",
    "            className='study-browser-banner row'\n",
    "    )]\n",
    ")\n",
    "```"
   ]
  },
  {
   "cell_type": "markdown",
   "metadata": {},
   "source": [
    "## Adding selectors"
   ]
  },
  {
   "cell_type": "markdown",
   "metadata": {},
   "source": [
    "```PYTHON\n",
    "app.layout = html.Div(children=[\n",
    "    html.Div(\n",
    "            children=[\n",
    "                html.H2(children=\"Bitcoin Leveraged Trading Backtest Analysis\", className='h2-title'),\n",
    "            ],\n",
    "            className='study-browser-banner row'\n",
    "    ),\n",
    "    html.Div(\n",
    "        className=\"row app-body\",\n",
    "        children=[\n",
    "            html.Div(\n",
    "                className=\"twelve columns card\",\n",
    "                children=[\n",
    "                    html.Div(\n",
    "                        className=\"padding row\",\n",
    "                        children=[\n",
    "                            html.Div(\n",
    "                                className=\"two columns card\",\n",
    "                                children=[\n",
    "                                    html.H6(\"Select Exchange\",),\n",
    "                                    dcc.RadioItems(\n",
    "                                        id=\"exchange-select\",\n",
    "                                        options=[\n",
    "                                            {'label': label, 'value': label} for label in df['Exchange'].unique()\n",
    "                                        ],\n",
    "                                        value='Bitmex',\n",
    "                                        labelStyle={'display': 'inline-block'}\n",
    "                                    )\n",
    "                                ]\n",
    "                            ),\n",
    "                            # Leverage Selector\n",
    "                            html.Div(\n",
    "                                className=\"two columns card\",\n",
    "                                children=[\n",
    "                                    html.H6(\"Select Leverage\"),\n",
    "                                    dcc.RadioItems(\n",
    "                                        id=\"leverage-select\",\n",
    "                                        options=[\n",
    "                                            {'label': str(label), 'value': str(label)} for label in df['Margin'].unique()\n",
    "                                        ],\n",
    "                                        value='1',\n",
    "                                        labelStyle={'display': 'inline-block'}\n",
    "                                    ),\n",
    "                                ]\n",
    "                            ),\n",
    "                            html.Div(\n",
    "                                className=\"two columns card\",\n",
    "                                children=[\n",
    "                                    html.H6(\"Select a Date Range\"),\n",
    "                                    dcc.DatePickerRange(\n",
    "                                        id=\"date-range-select\",\n",
    "                                        display_format=\"MMM YY\",\n",
    "                                        start_date=df['Entry time'].min(),\n",
    "                                        end_date=df['Entry time'].max()\n",
    "                                    ),\n",
    "                                ]\n",
    "                            ),\n",
    "  \n",
    "                        ]\n",
    "                )\n",
    "        ])\n",
    "    ])        \n",
    "])\n",
    "```"
   ]
  },
  {
   "cell_type": "markdown",
   "metadata": {},
   "source": [
    "### Add a callback function\n",
    "\n",
    "Add a callback function which updates the start and end date values of the date range selector based on the exchange selected (since each exchange contains data on different time periods). Please type code for the callback in the cell below in addition to having it in your `app.py` file."
   ]
  },
  {
   "cell_type": "code",
   "execution_count": 1,
   "metadata": {},
   "outputs": [],
   "source": [
    "@app.callback(\n",
    "    [dash.dependencies.Output(component_id='date-range-select', component_property='start_date'),\n",
    "     dash.dependencies.Output(component_id='date-range-select', component_property='end_date')],\n",
    "    [\n",
    "        dash.dependencies.Input(component_id='exchange-select', component_property='value')\n",
    "    ]\n",
    ")\n",
    "def update_date_exchange(value):\n",
    "    t=df[df['Exchange']==value]['Entry time'].apply(lambda x: x.strftime('%Y-%m-%d'))\n",
    "    start_date = t.min()\n",
    "    end_date = t.max()\n",
    "    return [start_date,end_date]"
   ]
  },
  {
   "cell_type": "markdown",
   "metadata": {},
   "source": [
    "### Create a function to filter information\n",
    "\n",
    "To ease the construction of all our callback functions, create a helper function `filter_df()` that will be re-used through the app. Our DataFrame will need to be filtered frequently based on the selection for `Exchange`, `Margin`, `start_date`, and `end_date`. Please type code for the function in the cell below in addition to having it in your `app.py` file."
   ]
  },
  {
   "cell_type": "markdown",
   "metadata": {},
   "source": [
    "```PYTHON\n",
    "\n",
    "def filter_df(df,exchange, margin, start_date,end_date):\n",
    "    filtered_df=df[(df['Exchange']==exchange) & (df['Margin']==margin) & (df['Entry time']>=start_date) & (df['Entry time']<=end_date)]\n",
    "    \n",
    "    return filtered_df\n",
    "```"
   ]
  },
  {
   "cell_type": "markdown",
   "metadata": {},
   "source": [
    "## Adding a data table to our plot\n",
    "\n",
    "Recall that we wish to occasionally analyze specific trades over a given time period. A data table containing information per trade is suited for this.  A reference guide for data tables in Dash is here: https://dash.plot.ly/datatable.\n",
    "\n",
    "To add a data table, we need to import the `dash_table` library. Let's add the table to our layout by setting a new div and placing it beneath the monthly plot:"
   ]
  },
  {
   "cell_type": "code",
   "execution_count": null,
   "metadata": {},
   "outputs": [],
   "source": [
    "import dash_table\n",
    "\n",
    "html.Div(\n",
    "        className=\"padding row\",\n",
    "        children=[\n",
    "            html.Div(\n",
    "                className=\"six columns card\",\n",
    "                children=[\n",
    "                    dash_table.DataTable(\n",
    "                        id='table',\n",
    "                        columns=[\n",
    "                            {'name': 'Number', 'id': 'Number'},\n",
    "                            {'name': 'Trade type', 'id': 'Trade type'},\n",
    "                            {'name': 'Exposure', 'id': 'Exposure'},\n",
    "                            {'name': 'Entry balance', 'id': 'Entry balance'},\n",
    "                            {'name': 'Exit balance', 'id': 'Exit balance'},\n",
    "                            {'name': 'Pnl (incl fees)', 'id': 'Pnl (incl fees)'},\n",
    "                        ],\n",
    "                        style_cell={'width': '50px'},\n",
    "                        style_table={\n",
    "                            'maxHeight': '450px',\n",
    "                            'overflowY': 'scroll'\n",
    "                        },\n",
    "                    )\n",
    "                ]\n",
    "            ),\n",
    "        ]\n",
    "    ),"
   ]
  },
  {
   "cell_type": "markdown",
   "metadata": {},
   "source": [
    "We pass the columns as a list of dictionaries, with `name` and `id` as the keys. Since we will be plotting the trade type, exposure, entry balance, etc. we pass these as the columns to our data table. The styling of the data table is important because we only want the height of the table to be 450px so that it doesn't overflow on the dashboard. Setting the `style_table` attribute with `maxHeight` and `overflowY` allows us to control for this. The table data will be rendered using the following callback function:"
   ]
  },
  {
   "cell_type": "code",
   "execution_count": null,
   "metadata": {},
   "outputs": [],
   "source": [
    "@app.callback(\n",
    "    dash.dependencies.Output('table', 'data'),\n",
    "    (\n",
    "        dash.dependencies.Input('exchange-select', 'value'),\n",
    "        dash.dependencies.Input('leverage-select', 'value'),\n",
    "        dash.dependencies.Input('date-range-select', 'start_date'),\n",
    "        dash.dependencies.Input('date-range-select', 'end_date'),\n",
    "    )\n",
    ")\n",
    "def update_table(exchange, leverage, start_date, end_date):\n",
    "    dff = filter_df(df, exchange, leverage, start_date, end_date)\n",
    "    return dff.to_dict('records')"
   ]
  },
  {
   "cell_type": "markdown",
   "metadata": {},
   "source": [
    "## Bar chart for visualizing trades\n",
    "\n",
    "Let's now add the bar chart to help visualize our trades. This can help us see the distribution of long vs. short trades as well as the most profitable trades over the selected period. Let's add this to our layout next to the data table, with the ID `pnl-types`:"
   ]
  },
  {
   "cell_type": "markdown",
   "metadata": {},
   "source": [
    "```\n",
    "\n",
    "        html.Div(\n",
    "                className=\"padding row\",\n",
    "                children=[\n",
    "                    html.Div(\n",
    "                        className=\"six columns card\",\n",
    "                        children=[\n",
    "                            dash_table.DataTable(\n",
    "                                id='table',\n",
    "                                columns=[\n",
    "                                    {'name': 'Number', 'id': 'Number'},\n",
    "                                    {'name': 'Trade type', 'id': 'Trade type'},\n",
    "                                    {'name': 'Exposure', 'id': 'Exposure'},\n",
    "                                    {'name': 'Entry balance', 'id': 'Entry balance'},\n",
    "                                    {'name': 'Exit balance', 'id': 'Exit balance'},\n",
    "                                    {'name': 'Pnl (incl fees)', 'id': 'Pnl (incl fees)'},\n",
    "                                ],\n",
    "                                style_cell={'width': '50px'},\n",
    "                                style_table={\n",
    "                                    'maxHeight': '450px',\n",
    "                                    'overflowY': 'scroll'\n",
    "                                },\n",
    "                            )\n",
    "                        ]\n",
    "                    ),\n",
    "                    dcc.Graph(\n",
    "                        id=\"pnl-types\",\n",
    "                        className=\"six columns card\",\n",
    "                        figure={}\n",
    "                    )\n",
    "                ]\n",
    "            )\n",
    "\n",
    "```"
   ]
  },
  {
   "cell_type": "markdown",
   "metadata": {},
   "source": [
    "### Callback function for bar chart\n",
    "\n",
    "We will add a callback function to load the data we are looking to visualize into a bar chart. The x-axis should be the entry time for that trade, and the y-axis should be the profit or loss for that trade (incl fees) in percentage terms. "
   ]
  },
  {
   "cell_type": "code",
   "execution_count": 4,
   "metadata": {},
   "outputs": [],
   "source": [
    "@app.callback(\n",
    "    dash.dependencies.Output('pnl-types', 'figure'),\n",
    "    (\n",
    "        dash.dependencies.Input('exchange-select', 'value'),\n",
    "        dash.dependencies.Input('leverage-select', 'value'),\n",
    "        dash.dependencies.Input('date-range-select', 'start_date'),\n",
    "        dash.dependencies.Input('date-range-select', 'end_date'),\n",
    "    )\n",
    ")\n",
    "def update_barchart(exchange,leverage, start_date,end_date):\n",
    "    dff = filter_df(df, exchange, leverage, start_date, end_date)\n",
    "    trace1 = go.Bar(x=dff[dff['Trade type']=='Long']['Entry time'], y=dff[dff['Trade type']=='Long']['Pnl (incl fees)'], name='Long', )\n",
    "    trace2 = go.Bar(x=dff[dff['Trade type']=='Short']['Entry time'], y=dff[dff['Trade type']=='Short']['Pnl (incl fees)'], name='Short', )\n",
    "    \n",
    "    \n",
    "    return {\n",
    "        'data': [trace1, trace2],\n",
    "        'layout': go.Layout(title='Pnl vs Trade type',\n",
    "                            colorway=[\"#EF963B\", \"#EF533B\"], hovermode=\"closest\")}"
   ]
  },
  {
   "cell_type": "markdown",
   "metadata": {},
   "source": [
    "## Adding two last charts\n",
    "\n",
    "We will now add our two last charts to the layout. One will track the overall value of the portfolio over time, and the other will plot the value of BTCUSD over that same period. This will help us visualize trends in BTC markets as well as the overall value of our balance. Let's add two charts to the layout at the bottom:"
   ]
  },
  {
   "cell_type": "markdown",
   "metadata": {},
   "source": [
    "```\n",
    "html.Div(\n",
    "        className=\"padding row\",\n",
    "        children=[\n",
    "            dcc.Graph(\n",
    "                id=\"daily-btc\",\n",
    "                className=\"six columns card\",\n",
    "                figure={}\n",
    "            ),\n",
    "            dcc.Graph(\n",
    "                id=\"balance\",\n",
    "                className=\"six columns card\",\n",
    "                figure={}\n",
    "            )\n",
    "        ]\n",
    "    )\n",
    "```"
   ]
  },
  {
   "cell_type": "markdown",
   "metadata": {},
   "source": [
    "### Callback functions for the last two charts\n",
    "\n",
    "One function returns a line chart of the price of BTC over the selected period, and he another one returns a line chart of the portfolio balance over the same period. "
   ]
  },
  {
   "cell_type": "code",
   "execution_count": 5,
   "metadata": {
    "jupyter": {
     "outputs_hidden": true
    }
   },
   "outputs": [],
   "source": [
    "@app.callback(\n",
    "    dash.dependencies.Output('daily-btc', 'figure'),\n",
    "    (\n",
    "        dash.dependencies.Input('exchange-select', 'value'),\n",
    "        dash.dependencies.Input('leverage-select', 'value'),\n",
    "        dash.dependencies.Input('date-range-select', 'start_date'),\n",
    "        dash.dependencies.Input('date-range-select', 'end_date'),\n",
    "    )\n",
    ")\n",
    "def update_dailybtc(exchange,leverage, start_date,end_date):\n",
    "    dff = filter_df(df, exchange, leverage, start_date, end_date)\n",
    "    trace=go.Scatter(x=dff[\"Entry time\"], y=dff['BTC Price'], name='BTC Price', mode='lines',\n",
    "                                marker={'size': 8, \"opacity\": 0.6, \"line\": {'width': 0.5}}, )\n",
    "    return {\"data\": [trace],\n",
    "            \"layout\": go.Layout(title=\"Daily BTC Price\", xaxis={\"title\": \"Date\"})}\n",
    "\n",
    "@app.callback(\n",
    "    dash.dependencies.Output('balance', 'figure'),\n",
    "    (\n",
    "        dash.dependencies.Input('exchange-select', 'value'),\n",
    "        dash.dependencies.Input('leverage-select', 'value'),\n",
    "        dash.dependencies.Input('date-range-select', 'start_date'),\n",
    "        dash.dependencies.Input('date-range-select', 'end_date'),\n",
    "    )\n",
    ")\n",
    "def update_balance(exchange,leverage, start_date,end_date):\n",
    "    dff = filter_df(df, exchange, leverage, start_date, end_date)\n",
    "    trace=go.Scatter(x=dff[\"Entry time\"], y=dff['Entry balance'], name='Balance', mode='lines',\n",
    "                                marker={'size': 8, \"opacity\": 0.6, \"line\": {'width': 0.5}}, )\n",
    "    return {\"data\": [trace],\n",
    "            \"layout\": go.Layout(title=\"Balance overtime\", xaxis={\"title\": \"Date\"})}"
   ]
  }
 ],
 "metadata": {
  "kernelspec": {
   "display_name": "Python 3",
   "language": "python",
   "name": "python3"
  },
  "language_info": {
   "codemirror_mode": {
    "name": "ipython",
    "version": 3
   },
   "file_extension": ".py",
   "mimetype": "text/x-python",
   "name": "python",
   "nbconvert_exporter": "python",
   "pygments_lexer": "ipython3",
   "version": "3.7.4"
  }
 },
 "nbformat": 4,
 "nbformat_minor": 4
}